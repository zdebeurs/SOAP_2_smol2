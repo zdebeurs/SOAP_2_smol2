{
 "cells": [
  {
   "cell_type": "code",
   "execution_count": 1,
   "id": "2cb1d30f",
   "metadata": {},
   "outputs": [],
   "source": [
    "import numpy as np\n",
    "from tempfile import TemporaryFile"
   ]
  },
  {
   "cell_type": "code",
   "execution_count": 2,
   "id": "6a86cfee",
   "metadata": {},
   "outputs": [],
   "source": [
    "x = np.array([1,2,3])\n",
    "y = np.array([2,4,6])\n",
    "outfile = 'test.npz'#TemporaryFile()#\"test_savez_file\"\n",
    "\n",
    "np.savez(outfile, x=x, y=y)\n",
    "#_ = outfile.seek(0)"
   ]
  },
  {
   "cell_type": "code",
   "execution_count": 3,
   "id": "b5910ba4",
   "metadata": {},
   "outputs": [
    {
     "data": {
      "text/plain": [
       "['x', 'y']"
      ]
     },
     "execution_count": 3,
     "metadata": {},
     "output_type": "execute_result"
    }
   ],
   "source": [
    "npzfile = np.load(outfile)\n",
    "npzfile.files"
   ]
  },
  {
   "cell_type": "code",
   "execution_count": 4,
   "id": "3ff470f9",
   "metadata": {},
   "outputs": [
    {
     "data": {
      "text/plain": [
       "array([1, 2, 3])"
      ]
     },
     "execution_count": 4,
     "metadata": {},
     "output_type": "execute_result"
    }
   ],
   "source": [
    "npzfile['x']"
   ]
  },
  {
   "cell_type": "code",
   "execution_count": null,
   "id": "4a9ab5cf",
   "metadata": {},
   "outputs": [],
   "source": []
  }
 ],
 "metadata": {
  "kernelspec": {
   "display_name": "Python 3",
   "language": "python",
   "name": "python3"
  },
  "language_info": {
   "codemirror_mode": {
    "name": "ipython",
    "version": 3
   },
   "file_extension": ".py",
   "mimetype": "text/x-python",
   "name": "python",
   "nbconvert_exporter": "python",
   "pygments_lexer": "ipython3",
   "version": "3.8.8"
  }
 },
 "nbformat": 4,
 "nbformat_minor": 5
}
